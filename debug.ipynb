{
 "cells": [
  {
   "cell_type": "code",
   "execution_count": 2,
   "metadata": {},
   "outputs": [],
   "source": [
    "import pandas as pd "
   ]
  },
  {
   "cell_type": "code",
   "execution_count": 4,
   "metadata": {},
   "outputs": [],
   "source": [
    "df = pd.read_json('output/articles.json')"
   ]
  },
  {
   "cell_type": "code",
   "execution_count": 6,
   "metadata": {},
   "outputs": [
    {
     "data": {
      "text/plain": [
       "0       <div class=\"region region-content\">\\n      <ar...\n",
       "1       <div class=\"region region-content\">\\n      <ar...\n",
       "2       <div class=\"region region-content\">\\n      <ar...\n",
       "3       <div class=\"region region-content\">\\n      <ar...\n",
       "4       <div class=\"region region-content\">\\n      <ar...\n",
       "                              ...                        \n",
       "4326    <div class=\"region region-content\">\\n      <ar...\n",
       "4327    <div class=\"region region-content\">\\n      <ar...\n",
       "4328    <div class=\"region region-content\">\\n      <ar...\n",
       "4329    <div class=\"region region-content\">\\n      <ar...\n",
       "4330    <div class=\"region region-content\">\\n      <ar...\n",
       "Name: article, Length: 4331, dtype: object"
      ]
     },
     "execution_count": 6,
     "metadata": {},
     "output_type": "execute_result"
    }
   ],
   "source": [
    "df['article']"
   ]
  }
 ],
 "metadata": {
  "interpreter": {
   "hash": "b3ba2566441a7c06988d0923437866b63cedc61552a5af99d1f4fb67d367b25f"
  },
  "kernelspec": {
   "display_name": "Python 3.7.4 ('base')",
   "language": "python",
   "name": "python3"
  },
  "language_info": {
   "codemirror_mode": {
    "name": "ipython",
    "version": 3
   },
   "file_extension": ".py",
   "mimetype": "text/x-python",
   "name": "python",
   "nbconvert_exporter": "python",
   "pygments_lexer": "ipython3",
   "version": "3.7.4"
  },
  "orig_nbformat": 4
 },
 "nbformat": 4,
 "nbformat_minor": 2
}
